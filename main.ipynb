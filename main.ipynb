{
 "cells": [
  {
   "cell_type": "markdown",
   "id": "fc5f9745",
   "metadata": {},
   "source": [
    "## Finetuning T5 using LoRA on GoEmotions and DialogSum Dataset"
   ]
  },
  {
   "cell_type": "code",
   "execution_count": 4,
   "id": "0119f45e",
   "metadata": {},
   "outputs": [
    {
     "name": "stderr",
     "output_type": "stream",
     "text": [
      "Generating train split: 100%|██████████| 43410/43410 [00:00<00:00, 1303811.99 examples/s]\n",
      "Generating validation split: 100%|██████████| 5426/5426 [00:00<00:00, 843962.53 examples/s]\n",
      "Generating test split: 100%|██████████| 5427/5427 [00:00<00:00, 874404.11 examples/s]\n",
      "Generating train split: 100%|██████████| 12460/12460 [00:00<00:00, 78968.72 examples/s]\n",
      "Generating validation split: 100%|██████████| 500/500 [00:00<00:00, 65683.79 examples/s]\n",
      "Generating test split: 100%|██████████| 1500/1500 [00:00<00:00, 126767.20 examples/s]\n",
      "Map: 100%|██████████| 43410/43410 [00:00<00:00, 227634.11 examples/s]\n",
      "Map: 100%|██████████| 5426/5426 [00:00<00:00, 316654.75 examples/s]\n",
      "Map: 100%|██████████| 5427/5427 [00:00<00:00, 324950.93 examples/s]\n",
      "Map: 100%|██████████| 12460/12460 [00:00<00:00, 301598.73 examples/s]\n",
      "Map: 100%|██████████| 500/500 [00:00<00:00, 149433.66 examples/s]\n",
      "Map: 100%|██████████| 1500/1500 [00:00<00:00, 250147.35 examples/s]\n"
     ]
    }
   ],
   "source": [
    "from datasets import load_dataset, concatenate_datasets, DatasetDict\n",
    "\n",
    "#load datasets\n",
    "goemotions = load_dataset(\"google-research-datasets/go_emotions\", \"simplified\")\n",
    "dialogsum = load_dataset(\"knkarthick/dialogsum\")\n",
    "\n",
    "\n",
    "#preprocess GoEmotions dataset\n",
    "def preprocess_goemotions(batch):\n",
    "  inputs = [f\"Emotion: {label} Context: {text}\" for text, label in zip(batch[\"text\"], batch[\"labels\"])]\n",
    "  targets = batch[\"text\"] #use the same text as target for simplicity\n",
    "  return {\"input_text\": inputs, \"target_text\": targets}\n",
    "\n",
    "processed_goemotions = goemotions.map(\n",
    "    preprocess_goemotions, batched=True, remove_columns=goemotions[\"train\"].column_names)\n",
    "\n",
    "\n",
    "#preprocess DialogSum dataset\n",
    "def preprocess_dialogsum(batch):\n",
    "    inputs = [f\"summarize: {dialogue}\" for dialogue in batch[\"dialogue\"]]\n",
    "    targets = batch[\"summary\"]\n",
    "    return {\"input_text\": inputs, \"target_text\": targets}\n",
    "\n",
    "processed_dialogsum = dialogsum.map(\n",
    "    preprocess_dialogsum, batched=True, remove_columns=dialogsum[\"train\"].column_names)"
   ]
  },
  {
   "cell_type": "code",
   "execution_count": 2,
   "id": "415976a8",
   "metadata": {},
   "outputs": [
    {
     "data": {
      "text/plain": [
       "DatasetDict({\n",
       "    train: Dataset({\n",
       "        features: ['input_text', 'target_text'],\n",
       "        num_rows: 62797\n",
       "    })\n",
       "    validation: Dataset({\n",
       "        features: ['input_text', 'target_text'],\n",
       "        num_rows: 5926\n",
       "    })\n",
       "})"
      ]
     },
     "execution_count": 2,
     "metadata": {},
     "output_type": "execute_result"
    }
   ],
   "source": [
    "#combining train and test splits because we're not interested in inferencing and metrics on test split\n",
    "train_set = concatenate_datasets([processed_goemotions['train'], processed_goemotions['test'],\n",
    "                                  processed_dialogsum['train'], processed_dialogsum['test']])\n",
    "val_set = concatenate_datasets([processed_goemotions['validation'], processed_dialogsum['validation']])\n",
    "\n",
    "#combine into one DatasetDict\n",
    "dataset = DatasetDict({\"train\": train_set, \"validation\": val_set})\n",
    "dataset"
   ]
  },
  {
   "cell_type": "code",
   "execution_count": 3,
   "id": "4a4fb386",
   "metadata": {},
   "outputs": [
    {
     "name": "stderr",
     "output_type": "stream",
     "text": [
      "You are using the default legacy behaviour of the <class 'transformers.models.t5.tokenization_t5.T5Tokenizer'>. This is expected, and simply means that the `legacy` (previous) behavior will be used so nothing changes for you. If you want to use the new behaviour, set `legacy=False`. This should only be set if you understand what it means, and thoroughly read the reason why this was added as explained in https://github.com/huggingface/transformers/pull/24565\n",
      "Map: 100%|██████████| 62797/62797 [00:28<00:00, 2167.52 examples/s]\n",
      "Map: 100%|██████████| 5926/5926 [00:02<00:00, 2828.22 examples/s]\n"
     ]
    }
   ],
   "source": [
    "from transformers import T5Tokenizer\n",
    "\n",
    "model_name = \"t5-base\"\n",
    "tokenizer = T5Tokenizer.from_pretrained(model_name)\n",
    "\n",
    "#tokenize the datasets\n",
    "def tokenize_function(batch):\n",
    "    model_inputs = tokenizer(\n",
    "        batch[\"input_text\"],\n",
    "        padding=True,\n",
    "        truncation=True,\n",
    "        max_length=1024\n",
    "    )\n",
    "    labels = tokenizer(\n",
    "        batch[\"target_text\"],\n",
    "        padding=True,\n",
    "        truncation=True,\n",
    "        max_length=256\n",
    "        )[\"input_ids\"]\n",
    "    labels = [\n",
    "        [(label if label != tokenizer.pad_token_id else -100) for label in label_seq]\n",
    "        for label_seq in labels\n",
    "    ]\n",
    "    model_inputs[\"labels\"] = labels\n",
    "    return model_inputs\n",
    "\n",
    "tokenized_dataset = dataset.map(tokenize_function, batched=True)"
   ]
  },
  {
   "cell_type": "code",
   "execution_count": 5,
   "id": "0d72d46b",
   "metadata": {},
   "outputs": [
    {
     "name": "stdout",
     "output_type": "stream",
     "text": [
      "trainable params: 3,538,944 || all params: 226,442,496 || trainable%: 1.5628\n"
     ]
    }
   ],
   "source": [
    "from transformers import T5ForConditionalGeneration\n",
    "from peft import LoraConfig, get_peft_model, TaskType\n",
    "\n",
    "#define LoRA configuration\n",
    "lora_config = LoraConfig(\n",
    "    task_type=TaskType.SEQ_2_SEQ_LM,  # Sequence-to-sequence task\n",
    "    r=32,                            # LoRA rank\n",
    "    lora_alpha=32,                   # Scaling factor\n",
    "    lora_dropout=0.1,                # Regularization\n",
    ")\n",
    "\n",
    "#load pre-trained T5 model\n",
    "model = T5ForConditionalGeneration.from_pretrained(model_name)\n",
    "\n",
    "model = get_peft_model(model, lora_config)\n",
    "model.print_trainable_parameters()"
   ]
  },
  {
   "cell_type": "code",
   "execution_count": 6,
   "id": "71b40c10",
   "metadata": {},
   "outputs": [
    {
     "name": "stderr",
     "output_type": "stream",
     "text": [
      "Passing a tuple of `past_key_values` is deprecated and will be removed in Transformers v4.48.0. You should pass an instance of `EncoderDecoderCache` instead, e.g. `past_key_values=EncoderDecoderCache.from_legacy_cache(past_key_values)`.\n",
      "Passing a tuple of `past_key_values` is deprecated and will be removed in Transformers v4.48.0. You should pass an instance of `EncoderDecoderCache` instead, e.g. `past_key_values=EncoderDecoderCache.from_legacy_cache(past_key_values)`.\n"
     ]
    },
    {
     "data": {
      "text/html": [
       "\n",
       "    <div>\n",
       "      \n",
       "      <progress value='5889' max='5889' style='width:300px; height:20px; vertical-align: middle;'></progress>\n",
       "      [5889/5889 1:15:03, Epoch 3/3]\n",
       "    </div>\n",
       "    <table border=\"1\" class=\"dataframe\">\n",
       "  <thead>\n",
       " <tr style=\"text-align: left;\">\n",
       "      <th>Epoch</th>\n",
       "      <th>Training Loss</th>\n",
       "      <th>Validation Loss</th>\n",
       "    </tr>\n",
       "  </thead>\n",
       "  <tbody>\n",
       "    <tr>\n",
       "      <td>1</td>\n",
       "      <td>0.470100</td>\n",
       "      <td>0.092581</td>\n",
       "    </tr>\n",
       "    <tr>\n",
       "      <td>2</td>\n",
       "      <td>0.386600</td>\n",
       "      <td>0.088932</td>\n",
       "    </tr>\n",
       "    <tr>\n",
       "      <td>3</td>\n",
       "      <td>0.370500</td>\n",
       "      <td>0.087933</td>\n",
       "    </tr>\n",
       "  </tbody>\n",
       "</table><p>"
      ],
      "text/plain": [
       "<IPython.core.display.HTML object>"
      ]
     },
     "metadata": {},
     "output_type": "display_data"
    },
    {
     "data": {
      "text/plain": [
       "('./t5-lora/tokenizer_config.json',\n",
       " './t5-lora/special_tokens_map.json',\n",
       " './t5-lora/spiece.model',\n",
       " './t5-lora/added_tokens.json')"
      ]
     },
     "execution_count": 6,
     "metadata": {},
     "output_type": "execute_result"
    }
   ],
   "source": [
    "from transformers import TrainingArguments, Trainer, DataCollatorForSeq2Seq\n",
    "import warnings\n",
    "warnings.filterwarnings(\"ignore\", category=UserWarning)\n",
    "\n",
    "\n",
    "training_args = TrainingArguments(\n",
    "    output_dir=\"./t5-lora\",\n",
    "    label_names=[\"labels\"],\n",
    "    eval_strategy=\"epoch\",\n",
    "    per_device_train_batch_size=16,\n",
    "    per_device_eval_batch_size=16,\n",
    "    learning_rate=5e-4, #higher lr for LoRA\n",
    "    num_train_epochs=3,\n",
    "    weight_decay=0.01,\n",
    "    save_strategy=\"epoch\",\n",
    "    save_total_limit=1,\n",
    "    logging_dir=\"./logs\",\n",
    "    logging_steps=10,\n",
    "    fp16=True, #mixed precision\n",
    "    report_to=\"none\"\n",
    ")\n",
    "\n",
    "data_collator = DataCollatorForSeq2Seq(tokenizer, model=model)\n",
    "\n",
    "trainer = Trainer(\n",
    "    model=model,\n",
    "    args=training_args,\n",
    "    train_dataset=tokenized_dataset['train'],\n",
    "    eval_dataset=tokenized_dataset['validation'],\n",
    "    data_collator=data_collator,\n",
    "    processing_class=tokenizer,\n",
    ")\n",
    "\n",
    "trainer.train()\n",
    "\n",
    "model.save_pretrained(\"./t5-lora\")\n",
    "tokenizer.save_pretrained(\"./t5-lora\")"
   ]
  }
 ],
 "metadata": {
  "kernelspec": {
   "display_name": "coolenv",
   "language": "python",
   "name": "python3"
  },
  "language_info": {
   "codemirror_mode": {
    "name": "ipython",
    "version": 3
   },
   "file_extension": ".py",
   "mimetype": "text/x-python",
   "name": "python",
   "nbconvert_exporter": "python",
   "pygments_lexer": "ipython3",
   "version": "3.12.9"
  }
 },
 "nbformat": 4,
 "nbformat_minor": 5
}
